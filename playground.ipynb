{
 "cells": [
  {
   "cell_type": "code",
   "execution_count": 1,
   "metadata": {},
   "outputs": [],
   "source": [
    "from yolo_predictions import YOLO_pred\n",
    "import cv2"
   ]
  },
  {
   "cell_type": "code",
   "execution_count": 2,
   "metadata": {},
   "outputs": [
    {
     "name": "stdout",
     "output_type": "stream",
     "text": [
      "['Jay', 'Gloria', 'Phil', 'Claire', 'Haley', 'Luke', 'Alex', 'Cameron', 'Mitchell', 'Lily', 'Manny']\n",
      "Phil: 99%\n",
      "Alex: 96%\n",
      "Haley: 96%\n",
      "Mitchell: 95%\n",
      "Cameron: 95%\n",
      "Manny: 93%\n",
      "Luke: 93%\n",
      "Gloria: 90%\n",
      "Jay: 81%\n",
      "Claire: 71%\n"
     ]
    }
   ],
   "source": [
    "model_path = 'model.onnx'\n",
    "test_model = YOLO_pred(model_path,'config.yaml')\n",
    "\n",
    "image_path = 'not_used_on_training/test_4.jpg'\n",
    "result = test_model.image_prediction(image_path)\n",
    "cv2.imshow(\"prediction\",result)\n",
    "cv2.waitKey(0)\n",
    "cv2.destroyAllWindows()"
   ]
  },
  {
   "cell_type": "code",
   "execution_count": null,
   "metadata": {},
   "outputs": [],
   "source": [
    "video_path = 'not_used_on_training/test.mp4'\n",
    "test_model.real_time_prediction(video_path,verbose=False)"
   ]
  }
 ],
 "metadata": {
  "kernelspec": {
   "display_name": "Python 3",
   "language": "python",
   "name": "python3"
  },
  "language_info": {
   "codemirror_mode": {
    "name": "ipython",
    "version": 3
   },
   "file_extension": ".py",
   "mimetype": "text/x-python",
   "name": "python",
   "nbconvert_exporter": "python",
   "pygments_lexer": "ipython3",
   "version": "3.12.0"
  }
 },
 "nbformat": 4,
 "nbformat_minor": 2
}
